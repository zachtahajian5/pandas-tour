{
  "nbformat": 4,
  "nbformat_minor": 0,
  "metadata": {
    "colab": {
      "provenance": [],
      "authorship_tag": "ABX9TyM3QBQNRo66nRVAtEP3xclB",
      "include_colab_link": true
    },
    "kernelspec": {
      "name": "python3",
      "display_name": "Python 3"
    },
    "language_info": {
      "name": "python"
    }
  },
  "cells": [
    {
      "cell_type": "markdown",
      "metadata": {
        "id": "view-in-github",
        "colab_type": "text"
      },
      "source": [
        "<a href=\"https://colab.research.google.com/github/zachtahajian5/pandas-tour/blob/main/pandas_demo_3_11.ipynb\" target=\"_parent\"><img src=\"https://colab.research.google.com/assets/colab-badge.svg\" alt=\"Open In Colab\"/></a>"
      ]
    },
    {
      "cell_type": "code",
      "execution_count": 5,
      "metadata": {
        "colab": {
          "base_uri": "https://localhost:8080/"
        },
        "id": "Svt4MhXWnI5K",
        "outputId": "b1148131-71ae-4fa6-8f3e-0e0dea63e02d"
      },
      "outputs": [
        {
          "output_type": "stream",
          "name": "stdout",
          "text": [
            "Drive already mounted at /content/drive; to attempt to forcibly remount, call drive.mount(\"/content/drive\", force_remount=True).\n"
          ]
        }
      ],
      "source": [
        "import pandas as pd\n",
        "import random\n",
        "import os\n",
        "import sqlite3\n",
        "from google.colab import drive\n",
        "drive.mount('/content/drive')\n"
      ]
    },
    {
      "cell_type": "markdown",
      "source": [
        "In this part of the pandas tour sequence, we're going to be going into the core of inital data 'poking' and iniital exploratory analysis.\n",
        "\n",
        "We'll demonstrate the following:\n",
        "\n",
        "1. .head()\n",
        "2. .tail()\n",
        "3. .info()\n",
        "4. .describe()\n",
        "5. .value_counts()\n",
        "6. DataFrame attributes such as shape, columns, and index"
      ],
      "metadata": {
        "id": "zwjEqdXonwgH"
      }
    },
    {
      "cell_type": "code",
      "source": [
        "df_raw = pd.read_csv(\"/content/drive/MyDrive/Workflow stuff/pandas_mini_projects_data.zip (Unzipped Files)/exploration.csv\")\n",
        "df_int = df_raw.copy()"
      ],
      "metadata": {
        "id": "KFlMwweboeMl"
      },
      "execution_count": 7,
      "outputs": []
    },
    {
      "cell_type": "markdown",
      "source": [
        "We'll display the first 3 and last 3 rows from our DataFrame now using .head() and .tail()"
      ],
      "metadata": {
        "id": "rBHzOREUpe2-"
      }
    },
    {
      "cell_type": "code",
      "source": [
        "print(\"first 3 rows:\")\n",
        "print(df_int.head())\n",
        "print()\n",
        "print(\"last 3 rows:\")\n",
        "print(df_int.tail())"
      ],
      "metadata": {
        "colab": {
          "base_uri": "https://localhost:8080/"
        },
        "id": "fnrzry16psIc",
        "outputId": "420b3181-4ec4-4e13-a69f-7d56be862aa5"
      },
      "execution_count": 8,
      "outputs": [
        {
          "output_type": "stream",
          "name": "stdout",
          "text": [
            "first 3 rows:\n",
            "  Region  Revenue  Units\n",
            "0    NaN     1655     93\n",
            "1     EU      542     22\n",
            "2     AS      788     27\n",
            "3  Other     1219    197\n",
            "4    NaN     1379     24\n",
            "\n",
            "last 3 rows:\n",
            "   Region  Revenue  Units\n",
            "95  Other      828    157\n",
            "96    NaN     2958     46\n",
            "97     EU     1693     40\n",
            "98     AS     1132     73\n",
            "99  Other     1186     33\n"
          ]
        }
      ]
    },
    {
      "cell_type": "markdown",
      "source": [
        "We'll now get a bunch of useful information about our DataFrame using the .info method."
      ],
      "metadata": {
        "id": "7qC0WAoBq_zO"
      }
    },
    {
      "cell_type": "code",
      "source": [
        "print(df_int.info())"
      ],
      "metadata": {
        "colab": {
          "base_uri": "https://localhost:8080/"
        },
        "id": "OEtatwnXrL2c",
        "outputId": "89521af9-5be4-4743-9b0a-74a52ab9386c"
      },
      "execution_count": 10,
      "outputs": [
        {
          "output_type": "stream",
          "name": "stdout",
          "text": [
            "<class 'pandas.core.frame.DataFrame'>\n",
            "RangeIndex: 100 entries, 0 to 99\n",
            "Data columns (total 3 columns):\n",
            " #   Column   Non-Null Count  Dtype \n",
            "---  ------   --------------  ----- \n",
            " 0   Region   75 non-null     object\n",
            " 1   Revenue  100 non-null    int64 \n",
            " 2   Units    100 non-null    int64 \n",
            "dtypes: int64(2), object(1)\n",
            "memory usage: 2.5+ KB\n",
            "None\n"
          ]
        }
      ]
    },
    {
      "cell_type": "markdown",
      "source": [],
      "metadata": {
        "id": "CD0fwwIF0Kwy"
      }
    },
    {
      "cell_type": "markdown",
      "source": [
        "We'll now do use .value_counts on one of our columns to get the highest frequency values in that column."
      ],
      "metadata": {
        "id": "MwizGoPntKf7"
      }
    },
    {
      "cell_type": "code",
      "source": [
        "#picking random column in our DataFrame\n",
        "\n",
        "import random\n",
        "\n",
        "#random_number = random.randint(1,3)\n",
        "#print(random_number)\n",
        "\n",
        "#random number was 1\n",
        "\n",
        "print(df_int[\"Region\"].value_counts())"
      ],
      "metadata": {
        "colab": {
          "base_uri": "https://localhost:8080/"
        },
        "id": "JH_vHjfutJOT",
        "outputId": "f4da21c7-c7ef-4d6d-d4b0-019cd91726c1"
      },
      "execution_count": 44,
      "outputs": [
        {
          "output_type": "stream",
          "name": "stdout",
          "text": [
            "Region\n",
            "EU       25\n",
            "AS       25\n",
            "Other    25\n",
            "Name: count, dtype: int64\n"
          ]
        }
      ]
    },
    {
      "cell_type": "markdown",
      "source": [
        "We'll then use .describe() to provide a statistics summary on our DataFrame object."
      ],
      "metadata": {
        "id": "wVovhfW3ujy1"
      }
    },
    {
      "cell_type": "code",
      "source": [
        "print(df_int.describe())"
      ],
      "metadata": {
        "colab": {
          "base_uri": "https://localhost:8080/"
        },
        "id": "HyjopRkGxdNl",
        "outputId": "c7c87f31-dbae-4fb7-d64d-13e26d705c1c"
      },
      "execution_count": 45,
      "outputs": [
        {
          "output_type": "stream",
          "name": "stdout",
          "text": [
            "           Revenue       Units\n",
            "count   100.000000  100.000000\n",
            "mean   1767.550000  106.570000\n",
            "std     759.648661   57.682386\n",
            "min     542.000000   10.000000\n",
            "25%    1110.750000   56.750000\n",
            "50%    1746.000000  102.500000\n",
            "75%    2430.750000  153.500000\n",
            "max    2989.000000  197.000000\n"
          ]
        }
      ]
    },
    {
      "cell_type": "markdown",
      "source": [
        "🙂 Finally we'll grab some metadata attributes on our DataFrame."
      ],
      "metadata": {
        "id": "ql2Keef90K0e"
      }
    },
    {
      "cell_type": "code",
      "source": [
        "print(df_int.shape)\n",
        "print(df_int.columns)\n",
        "print(df_int.index)"
      ],
      "metadata": {
        "colab": {
          "base_uri": "https://localhost:8080/"
        },
        "id": "FGkV6-Ko0bSv",
        "outputId": "662a8ab1-104f-43ae-f502-73198ae4feb8"
      },
      "execution_count": 46,
      "outputs": [
        {
          "output_type": "stream",
          "name": "stdout",
          "text": [
            "(100, 3)\n",
            "Index(['Region', 'Revenue', 'Units'], dtype='object')\n",
            "RangeIndex(start=0, stop=100, step=1)\n"
          ]
        }
      ]
    }
  ]
}