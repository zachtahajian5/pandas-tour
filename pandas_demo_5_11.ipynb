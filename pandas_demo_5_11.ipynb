{
  "nbformat": 4,
  "nbformat_minor": 0,
  "metadata": {
    "colab": {
      "provenance": [],
      "authorship_tag": "ABX9TyNBSDAkKwn+Ipsx629xwtbG",
      "include_colab_link": true
    },
    "kernelspec": {
      "name": "python3",
      "display_name": "Python 3"
    },
    "language_info": {
      "name": "python"
    }
  },
  "cells": [
    {
      "cell_type": "markdown",
      "metadata": {
        "id": "view-in-github",
        "colab_type": "text"
      },
      "source": [
        "<a href=\"https://colab.research.google.com/github/zachtahajian5/pandas-tour/blob/main/pandas_demo_5_11.ipynb\" target=\"_parent\"><img src=\"https://colab.research.google.com/assets/colab-badge.svg\" alt=\"Open In Colab\"/></a>"
      ]
    },
    {
      "cell_type": "code",
      "execution_count": 104,
      "metadata": {
        "colab": {
          "base_uri": "https://localhost:8080/",
          "height": 0
        },
        "id": "nAzWKxWKDueO",
        "outputId": "5e3e8a49-daf7-4656-826f-1f05e2ccd0ee"
      },
      "outputs": [
        {
          "output_type": "stream",
          "name": "stdout",
          "text": [
            "Drive already mounted at /content/drive; to attempt to forcibly remount, call drive.mount(\"/content/drive\", force_remount=True).\n"
          ]
        }
      ],
      "source": [
        "import pandas as pd\n",
        "import random\n",
        "import os\n",
        "import sqlite3\n",
        "from google.colab import drive\n",
        "drive.mount('/content/drive')"
      ]
    },
    {
      "cell_type": "code",
      "source": [
        "import sys\n",
        "sys.path.append(\"/content/drive/MyDrive/Workflow stuff/io utils\")"
      ],
      "metadata": {
        "id": "D2IXDdwgduKD"
      },
      "execution_count": 105,
      "outputs": []
    },
    {
      "cell_type": "markdown",
      "source": [
        "In this 5th installment of the pandas mastery tour, we're going to covering common mutations. ✊"
      ],
      "metadata": {
        "id": "GmmVt5NBEPwv"
      }
    },
    {
      "cell_type": "markdown",
      "source": [
        "The 4 mutations we'll be covering are:\n",
        "1. assign()\n",
        "2. drop()\n",
        "3. rename()\n",
        "4. sort_values()"
      ],
      "metadata": {
        "id": "y77I1nWEFCqU"
      }
    },
    {
      "cell_type": "markdown",
      "source": [
        "Let's start with demonstrating .assign()"
      ],
      "metadata": {
        "id": "QMBsJar7FUqK"
      }
    },
    {
      "cell_type": "code",
      "source": [
        "from io_utils import load_csv\n",
        "df_interm = load_csv(\"/content/drive/MyDrive/Workflow stuff/pandas_mini_projects_data.zip (Unzipped Files)/mutations.csv\")"
      ],
      "metadata": {
        "colab": {
          "base_uri": "https://localhost:8080/",
          "height": 0
        },
        "collapsed": true,
        "id": "7TnrAvY_d_ZL",
        "outputId": "03bc77f3-5aef-4ece-ac5e-e3737f3a81f4"
      },
      "execution_count": 106,
      "outputs": [
        {
          "output_type": "stream",
          "name": "stdout",
          "text": [
            "✅ Loaded: /content/drive/MyDrive/Workflow stuff/pandas_mini_projects_data.zip (Unzipped Files)/mutations.csv\n",
            "   Units  UnitPrice\n",
            "0     20      59.33\n",
            "1     85      65.64\n",
            "2     85      72.32\n",
            "3      1      43.87\n",
            "4     66      97.01\n"
          ]
        }
      ]
    },
    {
      "cell_type": "markdown",
      "source": [
        "We'll now use the .assign function to add a column to our DataFrame. For this exercise, we'll add a column which takes the projected revenue from the product if it sells out. We'll call the column Projected Revenue and it will be the multiplication of columns Unit and Unit Price"
      ],
      "metadata": {
        "id": "bfye_HsiitiA"
      }
    },
    {
      "cell_type": "code",
      "source": [
        "df_projected = df_interm.assign(Projected_Revenue = lambda x: x[\"Units\"] * x[\"UnitPrice\"])\n",
        "df_projected = df_projected.rename(columns={\"Projected_Revenue\":\"Projected Revenue\"})\n",
        "print(df_projected.head())"
      ],
      "metadata": {
        "colab": {
          "base_uri": "https://localhost:8080/",
          "height": 0
        },
        "collapsed": true,
        "id": "UixeFhHaitzN",
        "outputId": "e2651919-091e-4cc3-d1d7-91434eb1e371"
      },
      "execution_count": 107,
      "outputs": [
        {
          "output_type": "stream",
          "name": "stdout",
          "text": [
            "   Units  UnitPrice  Projected Revenue\n",
            "0     20      59.33            1186.60\n",
            "1     85      65.64            5579.40\n",
            "2     85      72.32            6147.20\n",
            "3      1      43.87              43.87\n",
            "4     66      97.01            6402.66\n"
          ]
        }
      ]
    },
    {
      "cell_type": "markdown",
      "source": [
        "Now we'll drop a column and store it in a temporary DataFrame object."
      ],
      "metadata": {
        "id": "M4kODV--lWnC"
      }
    },
    {
      "cell_type": "code",
      "source": [
        "df_temp_drop = df_interm.drop(columns=\"Units\")\n",
        "print(df_temp_drop.head())"
      ],
      "metadata": {
        "colab": {
          "base_uri": "https://localhost:8080/",
          "height": 0
        },
        "collapsed": true,
        "id": "v5Kb4UeClWV2",
        "outputId": "a51f9f69-60ad-4b30-935f-c3be6b97cd2d"
      },
      "execution_count": 108,
      "outputs": [
        {
          "output_type": "stream",
          "name": "stdout",
          "text": [
            "   UnitPrice\n",
            "0      59.33\n",
            "1      65.64\n",
            "2      72.32\n",
            "3      43.87\n",
            "4      97.01\n"
          ]
        }
      ]
    },
    {
      "cell_type": "markdown",
      "source": [
        "We'll demonstrate the rename operation by renaming \"Units\" to \"Units Sold\". We'll update our existing DataFrame this time.\n",
        "\n"
      ],
      "metadata": {
        "id": "iz3AMzyHm6-f"
      }
    },
    {
      "cell_type": "code",
      "source": [
        "df_interm = df_interm.rename(columns={\"Units\":\"Units Sold\"})\n",
        "print(df_interm.head())"
      ],
      "metadata": {
        "colab": {
          "base_uri": "https://localhost:8080/",
          "height": 0
        },
        "id": "qtKRaus2m59c",
        "outputId": "b9055122-1dcc-4445-cde1-5c68b0e32b37"
      },
      "execution_count": 109,
      "outputs": [
        {
          "output_type": "stream",
          "name": "stdout",
          "text": [
            "   Units Sold  UnitPrice\n",
            "0          20      59.33\n",
            "1          85      65.64\n",
            "2          85      72.32\n",
            "3           1      43.87\n",
            "4          66      97.01\n"
          ]
        }
      ]
    },
    {
      "cell_type": "markdown",
      "source": [
        "Finally, we'll use the sort_values method to sort by Units sold in descending order. In order to do that, we'll have to reverse the default argument for sorting (default is ascending = True)"
      ],
      "metadata": {
        "id": "SfEjtiZirLSY"
      }
    },
    {
      "cell_type": "code",
      "source": [
        "df_sorted = df_interm.sort_values(by=\"Units Sold\", ascending = True)\n",
        "print(df_sorted.head(10))"
      ],
      "metadata": {
        "colab": {
          "base_uri": "https://localhost:8080/",
          "height": 0
        },
        "id": "C9C-avMzr7pO",
        "outputId": "b0482b7d-d58e-4403-aac6-c0b668d06cc2"
      },
      "execution_count": 110,
      "outputs": [
        {
          "output_type": "stream",
          "name": "stdout",
          "text": [
            "    Units Sold  UnitPrice\n",
            "3            1      43.87\n",
            "29           1      82.29\n",
            "12           2      12.77\n",
            "25           9      13.25\n",
            "14          10      96.61\n",
            "30          11      25.81\n",
            "18          12      31.41\n",
            "21          12      78.60\n",
            "41          12      19.52\n",
            "13          13      72.37\n"
          ]
        }
      ]
    },
    {
      "cell_type": "code",
      "source": [
        "df_sorted_other = df_interm.sort_values(by=\"UnitPrice\", ascending=False)\n",
        "print(df_sorted_other.head(10))"
      ],
      "metadata": {
        "colab": {
          "base_uri": "https://localhost:8080/",
          "height": 0
        },
        "id": "ymQ9pivXswJe",
        "outputId": "e30c2013-f15f-405a-8af7-925389a03f1d"
      },
      "execution_count": 111,
      "outputs": [
        {
          "output_type": "stream",
          "name": "stdout",
          "text": [
            "    Units Sold  UnitPrice\n",
            "39          59      98.67\n",
            "4           66      97.01\n",
            "14          10      96.61\n",
            "9           77      91.81\n",
            "49          19      87.27\n",
            "20          50      85.60\n",
            "29           1      82.29\n",
            "19          86      81.28\n",
            "28          56      79.52\n",
            "21          12      78.60\n"
          ]
        }
      ]
    },
    {
      "cell_type": "code",
      "source": [
        "df_sorted_projected = df_projected.sort_values(by=\"Projected Revenue\", ascending=False)\n",
        "print(df_sorted_projected.head())"
      ],
      "metadata": {
        "colab": {
          "base_uri": "https://localhost:8080/",
          "height": 0
        },
        "id": "txHpIl2Zt0Bi",
        "outputId": "3422e714-458c-4b33-c8e1-1a711b50b5c0"
      },
      "execution_count": 115,
      "outputs": [
        {
          "output_type": "stream",
          "name": "stdout",
          "text": [
            "    Units  UnitPrice  Projected Revenue\n",
            "9      77      91.81            7069.37\n",
            "19     86      81.28            6990.08\n",
            "4      66      97.01            6402.66\n",
            "2      85      72.32            6147.20\n",
            "39     59      98.67            5821.53\n"
          ]
        }
      ]
    }
  ]
}