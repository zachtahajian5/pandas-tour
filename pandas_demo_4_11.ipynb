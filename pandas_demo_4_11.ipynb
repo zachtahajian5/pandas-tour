{
  "nbformat": 4,
  "nbformat_minor": 0,
  "metadata": {
    "colab": {
      "provenance": [],
      "authorship_tag": "ABX9TyN2RLWQTE4uXgm+tdNboH49",
      "include_colab_link": true
    },
    "kernelspec": {
      "name": "python3",
      "display_name": "Python 3"
    },
    "language_info": {
      "name": "python"
    }
  },
  "cells": [
    {
      "cell_type": "markdown",
      "metadata": {
        "id": "view-in-github",
        "colab_type": "text"
      },
      "source": [
        "<a href=\"https://colab.research.google.com/github/zachtahajian5/pandas-tour/blob/main/pandas_demo_4_11.ipynb\" target=\"_parent\"><img src=\"https://colab.research.google.com/assets/colab-badge.svg\" alt=\"Open In Colab\"/></a>"
      ]
    },
    {
      "cell_type": "code",
      "execution_count": 32,
      "metadata": {
        "colab": {
          "base_uri": "https://localhost:8080/"
        },
        "id": "uYQBFW0V23R2",
        "outputId": "4b9f3541-36c3-4db2-f568-51fd9107b52a"
      },
      "outputs": [
        {
          "output_type": "stream",
          "name": "stdout",
          "text": [
            "Drive already mounted at /content/drive; to attempt to forcibly remount, call drive.mount(\"/content/drive\", force_remount=True).\n"
          ]
        }
      ],
      "source": [
        "import pandas as pd\n",
        "import random\n",
        "import os\n",
        "import sqlite3\n",
        "from google.colab import drive\n",
        "drive.mount('/content/drive')"
      ]
    },
    {
      "cell_type": "markdown",
      "source": [
        "In this portion of the pandas mastery tour, we're going to be dialing in on Selecting & Filtering. 😀\n",
        "\n",
        "We'll use:\n",
        "\n",
        "1. .loc\n",
        "2. .iloc\n",
        "3. .query\n",
        "4. .isin\n",
        "5. .str.contains()\n"
      ],
      "metadata": {
        "id": "G4a5TSWB3S4V"
      }
    },
    {
      "cell_type": "code",
      "source": [
        "df_raw = pd.read_csv(\"/content/drive/MyDrive/Workflow stuff/pandas_mini_projects_data.zip (Unzipped Files)/filtering.csv\")\n",
        "df_interm = df_raw.copy()\n",
        "\n",
        "print(df_interm.head())"
      ],
      "metadata": {
        "colab": {
          "base_uri": "https://localhost:8080/"
        },
        "id": "nMJbF-PS3Srl",
        "outputId": "f2ac73fa-a834-4017-d7b1-c4cef67f93bc"
      },
      "execution_count": 33,
      "outputs": [
        {
          "output_type": "stream",
          "name": "stdout",
          "text": [
            "  Region       Month  Units\n",
            "0   East  2025-01-01     14\n",
            "1   West  2025-01-02     34\n",
            "2  North  2025-01-03     40\n",
            "3  South  2025-01-04     28\n",
            "4   East  2025-01-05     45\n"
          ]
        }
      ]
    },
    {
      "cell_type": "code",
      "source": [
        "print(df_interm.info())"
      ],
      "metadata": {
        "colab": {
          "base_uri": "https://localhost:8080/"
        },
        "id": "WgCkC7Xa4507",
        "outputId": "5ce741bf-d751-45ea-d22b-c1ce114ee2e3"
      },
      "execution_count": 34,
      "outputs": [
        {
          "output_type": "stream",
          "name": "stdout",
          "text": [
            "<class 'pandas.core.frame.DataFrame'>\n",
            "RangeIndex: 100 entries, 0 to 99\n",
            "Data columns (total 3 columns):\n",
            " #   Column  Non-Null Count  Dtype \n",
            "---  ------  --------------  ----- \n",
            " 0   Region  100 non-null    object\n",
            " 1   Month   100 non-null    object\n",
            " 2   Units   100 non-null    int64 \n",
            "dtypes: int64(1), object(2)\n",
            "memory usage: 2.5+ KB\n",
            "None\n"
          ]
        }
      ]
    },
    {
      "cell_type": "code",
      "source": [
        "print(df_interm.describe())"
      ],
      "metadata": {
        "colab": {
          "base_uri": "https://localhost:8080/"
        },
        "id": "83dh2EKc5YyX",
        "outputId": "00a5451f-f3e2-4c44-b40a-c0fa31d032d5"
      },
      "execution_count": 35,
      "outputs": [
        {
          "output_type": "stream",
          "name": "stdout",
          "text": [
            "            Units\n",
            "count  100.000000\n",
            "mean    23.190000\n",
            "std     13.120032\n",
            "min      1.000000\n",
            "25%     14.000000\n",
            "50%     23.000000\n",
            "75%     33.000000\n",
            "max     48.000000\n"
          ]
        }
      ]
    },
    {
      "cell_type": "markdown",
      "source": [
        "Our usage of .loc will produce a DataFrame that keeps all columns, but only keeps rows which contain both \"East\" for the Region column and numbers greater than 20 for the Units column.\n"
      ],
      "metadata": {
        "id": "aZ1VnFWa9YN6"
      }
    },
    {
      "cell_type": "code",
      "source": [
        "df_East_twenty_plus = df_interm.loc[(df_interm[\"Region\"] == \"East\") & (df_interm[\"Units\"]>= 20), [\"Region\", \"Units\"]]\n",
        "print(df_East_twenty_plus)"
      ],
      "metadata": {
        "colab": {
          "base_uri": "https://localhost:8080/"
        },
        "id": "_OgC1kX477T5",
        "outputId": "6ca68aff-3e8e-4890-fb88-6d1edce47c7a"
      },
      "execution_count": 36,
      "outputs": [
        {
          "output_type": "stream",
          "name": "stdout",
          "text": [
            "   Region  Units\n",
            "4    East     45\n",
            "12   East     25\n",
            "24   East     25\n",
            "28   East     35\n",
            "40   East     30\n",
            "48   East     39\n",
            "56   East     35\n",
            "68   East     22\n",
            "76   East     25\n",
            "88   East     20\n",
            "92   East     30\n"
          ]
        }
      ]
    },
    {
      "cell_type": "markdown",
      "source": [
        "We'll use iloc to keep select specific rows and columns. We'll print the result to verify."
      ],
      "metadata": {
        "id": "4HxKV4EeCKFB"
      }
    },
    {
      "cell_type": "code",
      "source": [
        "df_my_fav_rows = df_interm.iloc[[25, 50, 75], [0,2]]\n",
        "print(df_my_fav_rows)"
      ],
      "metadata": {
        "colab": {
          "base_uri": "https://localhost:8080/"
        },
        "id": "yOrpeF21FRQj",
        "outputId": "158ca4ee-2cfc-4be5-9dbc-2a7b0308ed76"
      },
      "execution_count": 37,
      "outputs": [
        {
          "output_type": "stream",
          "name": "stdout",
          "text": [
            "   Region  Units\n",
            "25   West     46\n",
            "50  North     26\n",
            "75  South     19\n"
          ]
        }
      ]
    },
    {
      "cell_type": "markdown",
      "source": [
        "Now we'll use df.query to produce the same result as we did with .loc, but in a much more concise way. (For us and our fellow developers! 😃"
      ],
      "metadata": {
        "id": "PE3WmxnNpse6"
      }
    },
    {
      "cell_type": "code",
      "source": [
        "# Define  - REPLACE THIS WITH YOUR ACTUAL  = {'Region': ['East', 'West', 'North', 'South', 'East', 'West', 'North', 'South', 'East', 'West', 'North', 'South', 'East', 'West', 'North', 'South', 'East', 'West', 'North', 'South', 'East', 'West', 'North', 'South', 'East', 'West', 'North', 'South', 'East', 'West', 'North', 'South', 'East', 'West', 'North', 'South', 'East', 'West', 'North', 'South', 'East', 'West', 'North', 'South', 'East', 'West', 'North', 'South', 'East', 'West', 'North', 'South', 'East', 'West', 'North', 'South', 'East', 'West', 'North', 'South', 'East', 'West', 'North', 'South', 'East', 'West', 'North', 'South', 'East', 'West', 'North', 'South', 'East', 'West', 'North', 'South', 'East', 'West', 'North', 'South', 'East', 'West', 'Nor, 45, 11, 14, 19, 16, 13, 17, 20, 25, 10, 15, 12, 18, 11, 14, 19, 16, 13, 17, 20, 25, 46, 15, 12, 35, 11, 14, 19, 16, 13, 17, 20, 25, 10, 15, 30, 20, 11, 14, 19, 16, 13, 17, 39, 35, 10, 26, 12, 18, 11, 14, 35, 16, 13, 17, 20, 22, 10, 15, 12, 18, 11, 14, 19, 16, 13, 17, 25, 25, 10, 15, 19, 18, 11, 14, 19, 16, 13, 17, 20, 30, 10, 15, 12, 18, 11, 14\n",
        "\n",
        "df_east_twenty_plus_q = df_interm.query('Region == \"East\" and Units >= 20')\n",
        "print(df_east_twenty_plus_q)"
      ],
      "metadata": {
        "colab": {
          "base_uri": "https://localhost:8080/"
        },
        "id": "d0mtKbGDp7hS",
        "outputId": "6bb3e609-b7b3-46d3-e0c7-d10c233a68c9"
      },
      "execution_count": 38,
      "outputs": [
        {
          "output_type": "stream",
          "name": "stdout",
          "text": [
            "   Region       Month  Units\n",
            "4    East  2025-01-05     45\n",
            "12   East  2025-01-13     25\n",
            "24   East  2025-01-25     25\n",
            "28   East  2025-01-29     35\n",
            "40   East  2025-02-10     30\n",
            "48   East  2025-02-18     39\n",
            "56   East  2025-02-26     35\n",
            "68   East  2025-03-10     22\n",
            "76   East  2025-03-18     25\n",
            "88   East  2025-03-30     20\n",
            "92   East  2025-04-03     30\n"
          ]
        }
      ]
    },
    {
      "cell_type": "markdown",
      "source": [
        "We can use .isin to create a boolean mask that will act as a row selector when we use it as a key for our DataFrame.\n",
        "\n"
      ],
      "metadata": {
        "id": "LRt1Copa1Gy_"
      }
    },
    {
      "cell_type": "code",
      "source": [
        "bool_mask = df_interm[\"Region\"].isin([\"East\"])\n",
        "print(bool_mask)"
      ],
      "metadata": {
        "id": "-1t4s41x1cpS",
        "colab": {
          "base_uri": "https://localhost:8080/"
        },
        "outputId": "ff707489-7a95-4d3d-d792-c412145f2884"
      },
      "execution_count": 39,
      "outputs": [
        {
          "output_type": "stream",
          "name": "stdout",
          "text": [
            "0      True\n",
            "1     False\n",
            "2     False\n",
            "3     False\n",
            "4      True\n",
            "      ...  \n",
            "95    False\n",
            "96     True\n",
            "97    False\n",
            "98    False\n",
            "99    False\n",
            "Name: Region, Length: 100, dtype: bool\n"
          ]
        }
      ]
    },
    {
      "cell_type": "code",
      "source": [
        "#let's create an optional self-filtering system.\n",
        "\n",
        "print(bool_mask[bool_mask])"
      ],
      "metadata": {
        "colab": {
          "base_uri": "https://localhost:8080/"
        },
        "id": "zbYJifuB9bTJ",
        "outputId": "2d7798d0-0961-4494-cd53-3090f36c4ee6"
      },
      "execution_count": 40,
      "outputs": [
        {
          "output_type": "stream",
          "name": "stdout",
          "text": [
            "0     True\n",
            "4     True\n",
            "8     True\n",
            "12    True\n",
            "16    True\n",
            "20    True\n",
            "24    True\n",
            "28    True\n",
            "32    True\n",
            "36    True\n",
            "40    True\n",
            "44    True\n",
            "48    True\n",
            "52    True\n",
            "56    True\n",
            "60    True\n",
            "64    True\n",
            "68    True\n",
            "72    True\n",
            "76    True\n",
            "80    True\n",
            "84    True\n",
            "88    True\n",
            "92    True\n",
            "96    True\n",
            "Name: Region, dtype: bool\n"
          ]
        }
      ]
    },
    {
      "cell_type": "markdown",
      "source": [
        "We'll now filter the DataFrame with row selector, bool_mask, as the key. We'll assign the resulting DataFrame to filtered_df\n"
      ],
      "metadata": {
        "id": "k_C3V2FX86Br"
      }
    },
    {
      "cell_type": "code",
      "source": [
        "filtered_df_interm = df_interm[bool_mask]\n",
        "print(filtered_df_interm)"
      ],
      "metadata": {
        "colab": {
          "base_uri": "https://localhost:8080/"
        },
        "id": "TfnVZWuV8_Gk",
        "outputId": "07dc1576-bdf4-4a2d-a99c-5f27580ce883"
      },
      "execution_count": 41,
      "outputs": [
        {
          "output_type": "stream",
          "name": "stdout",
          "text": [
            "   Region       Month  Units\n",
            "0    East  2025-01-01     14\n",
            "4    East  2025-01-05     45\n",
            "8    East  2025-01-09     18\n",
            "12   East  2025-01-13     25\n",
            "16   East  2025-01-17     15\n",
            "20   East  2025-01-21      9\n",
            "24   East  2025-01-25     25\n",
            "28   East  2025-01-29     35\n",
            "32   East  2025-02-02     16\n",
            "36   East  2025-02-06      6\n",
            "40   East  2025-02-10     30\n",
            "44   East  2025-02-14      7\n",
            "48   East  2025-02-18     39\n",
            "52   East  2025-02-22     17\n",
            "56   East  2025-02-26     35\n",
            "60   East  2025-03-02      5\n",
            "64   East  2025-03-06     17\n",
            "68   East  2025-03-10     22\n",
            "72   East  2025-03-14     12\n",
            "76   East  2025-03-18     25\n",
            "80   East  2025-03-22      6\n",
            "84   East  2025-03-26     17\n",
            "88   East  2025-03-30     20\n",
            "92   East  2025-04-03     30\n",
            "96   East  2025-04-07     13\n"
          ]
        }
      ]
    },
    {
      "cell_type": "markdown",
      "source": [
        "Finally, we're going to demonstrate the str.contains() method."
      ],
      "metadata": {
        "id": "jZbpjosL-3Db"
      }
    },
    {
      "cell_type": "code",
      "source": [
        "bool_str_mask = df_interm[\"Region\"].str.contains(\"outh\")\n",
        "bool_str_mask_two = df_interm[\"Region\"].str.contains(\"st\")"
      ],
      "metadata": {
        "id": "ouTO_AFY_FnZ"
      },
      "execution_count": 42,
      "outputs": []
    },
    {
      "cell_type": "markdown",
      "source": [
        "Notice how our second .str.contains() should produce a boolean series that has truthy values for column values \"East\" AND \"West\""
      ],
      "metadata": {
        "id": "F8d3lq0tA1FE"
      }
    },
    {
      "cell_type": "code",
      "source": [
        "print(bool_str_mask_two)"
      ],
      "metadata": {
        "colab": {
          "base_uri": "https://localhost:8080/"
        },
        "id": "d7hsdRP2A5xH",
        "outputId": "2b7db5c1-3896-4772-9a26-66f901bc0b28"
      },
      "execution_count": 43,
      "outputs": [
        {
          "output_type": "stream",
          "name": "stdout",
          "text": [
            "0      True\n",
            "1      True\n",
            "2     False\n",
            "3     False\n",
            "4      True\n",
            "      ...  \n",
            "95    False\n",
            "96     True\n",
            "97     True\n",
            "98    False\n",
            "99    False\n",
            "Name: Region, Length: 100, dtype: bool\n"
          ]
        }
      ]
    },
    {
      "cell_type": "markdown",
      "source": [
        "Let's look at the filtered DataFrame using the second boolean mask we made as the row selector.\n"
      ],
      "metadata": {
        "id": "Zg415RuuBM8h"
      }
    },
    {
      "cell_type": "code",
      "source": [
        "filtered_df_str = df_interm[bool_str_mask_two]\n",
        "print(filtered_df_str)"
      ],
      "metadata": {
        "colab": {
          "base_uri": "https://localhost:8080/"
        },
        "id": "tTF3SvR_A5nN",
        "outputId": "b6f90463-3101-4e50-ae5f-66462bf7dd16"
      },
      "execution_count": 44,
      "outputs": [
        {
          "output_type": "stream",
          "name": "stdout",
          "text": [
            "   Region       Month  Units\n",
            "0    East  2025-01-01     14\n",
            "1    West  2025-01-02     34\n",
            "4    East  2025-01-05     45\n",
            "5    West  2025-01-06     48\n",
            "8    East  2025-01-09     18\n",
            "9    West  2025-01-10     18\n",
            "12   East  2025-01-13     25\n",
            "13   West  2025-01-14     31\n",
            "16   East  2025-01-17     15\n",
            "17   West  2025-01-18     28\n",
            "20   East  2025-01-21      9\n",
            "21   West  2025-01-22     21\n",
            "24   East  2025-01-25     25\n",
            "25   West  2025-01-26     46\n",
            "28   East  2025-01-29     35\n",
            "29   West  2025-01-30      4\n",
            "32   East  2025-02-02     16\n",
            "33   West  2025-02-03     19\n",
            "36   East  2025-02-06      6\n",
            "37   West  2025-02-07      1\n",
            "40   East  2025-02-10     30\n",
            "41   West  2025-02-11     42\n",
            "44   East  2025-02-14      7\n",
            "45   West  2025-02-15     33\n",
            "48   East  2025-02-18     39\n",
            "49   West  2025-02-19      7\n",
            "52   East  2025-02-22     17\n",
            "53   West  2025-02-23      4\n",
            "56   East  2025-02-26     35\n",
            "57   West  2025-02-27     28\n",
            "60   East  2025-03-02      5\n",
            "61   West  2025-03-03     35\n",
            "64   East  2025-03-06     17\n",
            "65   West  2025-03-07     41\n",
            "68   East  2025-03-10     22\n",
            "69   West  2025-03-11      3\n",
            "72   East  2025-03-14     12\n",
            "73   West  2025-03-15     11\n",
            "76   East  2025-03-18     25\n",
            "77   West  2025-03-19     46\n",
            "80   East  2025-03-22      6\n",
            "81   West  2025-03-23     15\n",
            "84   East  2025-03-26     17\n",
            "85   West  2025-03-27     20\n",
            "88   East  2025-03-30     20\n",
            "89   West  2025-03-31     48\n",
            "92   East  2025-04-03     30\n",
            "93   West  2025-04-04     31\n",
            "96   East  2025-04-07     13\n",
            "97   West  2025-04-08     18\n"
          ]
        }
      ]
    },
    {
      "cell_type": "markdown",
      "source": [
        "Let's reset the index of the filtered DataFrame with .reset_index(drop=True)"
      ],
      "metadata": {
        "id": "R7hx0M7uC67S"
      }
    },
    {
      "cell_type": "code",
      "source": [
        "filtered_df_str = filtered_df_str.reset_index(drop=True)\n",
        "print(filtered_df_str)"
      ],
      "metadata": {
        "colab": {
          "base_uri": "https://localhost:8080/"
        },
        "id": "uC0F0Ir3DBpp",
        "outputId": "bf7aac3a-55d5-496b-8df8-9390addca3ed"
      },
      "execution_count": 45,
      "outputs": [
        {
          "output_type": "stream",
          "name": "stdout",
          "text": [
            "   Region       Month  Units\n",
            "0    East  2025-01-01     14\n",
            "1    West  2025-01-02     34\n",
            "2    East  2025-01-05     45\n",
            "3    West  2025-01-06     48\n",
            "4    East  2025-01-09     18\n",
            "5    West  2025-01-10     18\n",
            "6    East  2025-01-13     25\n",
            "7    West  2025-01-14     31\n",
            "8    East  2025-01-17     15\n",
            "9    West  2025-01-18     28\n",
            "10   East  2025-01-21      9\n",
            "11   West  2025-01-22     21\n",
            "12   East  2025-01-25     25\n",
            "13   West  2025-01-26     46\n",
            "14   East  2025-01-29     35\n",
            "15   West  2025-01-30      4\n",
            "16   East  2025-02-02     16\n",
            "17   West  2025-02-03     19\n",
            "18   East  2025-02-06      6\n",
            "19   West  2025-02-07      1\n",
            "20   East  2025-02-10     30\n",
            "21   West  2025-02-11     42\n",
            "22   East  2025-02-14      7\n",
            "23   West  2025-02-15     33\n",
            "24   East  2025-02-18     39\n",
            "25   West  2025-02-19      7\n",
            "26   East  2025-02-22     17\n",
            "27   West  2025-02-23      4\n",
            "28   East  2025-02-26     35\n",
            "29   West  2025-02-27     28\n",
            "30   East  2025-03-02      5\n",
            "31   West  2025-03-03     35\n",
            "32   East  2025-03-06     17\n",
            "33   West  2025-03-07     41\n",
            "34   East  2025-03-10     22\n",
            "35   West  2025-03-11      3\n",
            "36   East  2025-03-14     12\n",
            "37   West  2025-03-15     11\n",
            "38   East  2025-03-18     25\n",
            "39   West  2025-03-19     46\n",
            "40   East  2025-03-22      6\n",
            "41   West  2025-03-23     15\n",
            "42   East  2025-03-26     17\n",
            "43   West  2025-03-27     20\n",
            "44   East  2025-03-30     20\n",
            "45   West  2025-03-31     48\n",
            "46   East  2025-04-03     30\n",
            "47   West  2025-04-04     31\n",
            "48   East  2025-04-07     13\n",
            "49   West  2025-04-08     18\n"
          ]
        }
      ]
    }
  ]
}