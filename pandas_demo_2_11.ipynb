{
  "nbformat": 4,
  "nbformat_minor": 0,
  "metadata": {
    "colab": {
      "provenance": [],
      "authorship_tag": "ABX9TyNIdP4EDaSRgH7de/RGSzjH",
      "include_colab_link": true
    },
    "kernelspec": {
      "name": "python3",
      "display_name": "Python 3"
    },
    "language_info": {
      "name": "python"
    }
  },
  "cells": [
    {
      "cell_type": "markdown",
      "metadata": {
        "id": "view-in-github",
        "colab_type": "text"
      },
      "source": [
        "<a href=\"https://colab.research.google.com/github/zachtahajian5/pandas-tour/blob/main/pandas_demo_2_11.ipynb\" target=\"_parent\"><img src=\"https://colab.research.google.com/assets/colab-badge.svg\" alt=\"Open In Colab\"/></a>"
      ]
    },
    {
      "cell_type": "code",
      "execution_count": 24,
      "metadata": {
        "colab": {
          "base_uri": "https://localhost:8080/",
          "height": 0
        },
        "id": "vJdv4JbMhGTS",
        "outputId": "014f2575-f4fd-4296-e6c0-c5eceb9ad44c"
      },
      "outputs": [
        {
          "output_type": "stream",
          "name": "stdout",
          "text": [
            "Drive already mounted at /content/drive; to attempt to forcibly remount, call drive.mount(\"/content/drive\", force_remount=True).\n"
          ]
        }
      ],
      "source": [
        "import pandas as pd\n",
        "import random\n",
        "import os\n",
        "from google.colab import drive\n",
        "drive.mount('/content/drive')\n"
      ]
    },
    {
      "cell_type": "markdown",
      "source": [
        "In this part of the pandas mastery tour, we're going to do a number of I/O related tasks:\n",
        "\n",
        "1. First we'll demonstrate how to read a CSV into our program as a pandas DataFrame object. We'll read that CSV file in from root > data > raw.\n",
        "\n",
        "2. We're going to create a copy of the 'raw' data by using .copy() on the raw DataFrame.\n",
        "\n",
        "3. We'll do some arbitrary transformations to our copied DataFrame to create the illusion of \"raw to processed\" data.\n",
        "\n",
        "4. We'll write the 'processed' copy to a format of our choosing, in this case, we'll keep it as a CSV. We're working in a Google Collab notebook so we'll create a variable called \"processed_csv_path\" to hold the copied address of our  root>data>processed location."
      ],
      "metadata": {
        "id": "G39YRFIpiEoO"
      }
    },
    {
      "cell_type": "code",
      "source": [
        "df_raw = pd.read_csv(\"/content/drive/MyDrive/pandas-mini-project/data/raw/io.csv\")\n",
        "#inspecting raw data to ensure we have the right data.\n",
        "\n",
        "print(\"first 3 rows:\")\n",
        "print(df_raw.head())\n",
        "print()\n",
        "print(\"last 3 rows:\")\n",
        "print(df_raw.tail())"
      ],
      "metadata": {
        "colab": {
          "base_uri": "https://localhost:8080/",
          "height": 0
        },
        "collapsed": true,
        "id": "A-YExPihwiMT",
        "outputId": "0a6fca92-6791-45a4-e853-7a63df871625"
      },
      "execution_count": 25,
      "outputs": [
        {
          "output_type": "stream",
          "name": "stdout",
          "text": [
            "first 3 rows:\n",
            "  Platform  Sales\n",
            "0      PS4   2604\n",
            "1     Xbox   1263\n",
            "2   Switch   3272\n",
            "3       PC   3166\n",
            "4      PS4   1861\n",
            "\n",
            "last 3 rows:\n",
            "   Platform  Sales\n",
            "95       PC   3998\n",
            "96      PS4   1083\n",
            "97     Xbox   1446\n",
            "98   Switch   4264\n",
            "99       PC   4971\n"
          ]
        }
      ]
    },
    {
      "cell_type": "code",
      "source": [
        "df = df_raw.copy()\n",
        "#inspecting data copy to ensure this is a carbon copy of the original data.\n",
        "print(\"first 3 rows:\")\n",
        "print(df_raw.head())\n",
        "print()\n",
        "print(\"last 3 rows:\")\n",
        "print(df.tail())"
      ],
      "metadata": {
        "colab": {
          "base_uri": "https://localhost:8080/",
          "height": 0
        },
        "collapsed": true,
        "id": "S3DweMy5xSG-",
        "outputId": "baa11be9-335c-48c4-e579-a098442840e0"
      },
      "execution_count": 30,
      "outputs": [
        {
          "output_type": "stream",
          "name": "stdout",
          "text": [
            "first 3 rows:\n",
            "  Platform  Sales\n",
            "0      PS4   2604\n",
            "1     Xbox   1263\n",
            "2   Switch   3272\n",
            "3       PC   3166\n",
            "4      PS4   1861\n",
            "\n",
            "last 3 rows:\n",
            "   Platform  Sales\n",
            "95       PC   3998\n",
            "96      PS4   1083\n",
            "97     Xbox   1446\n",
            "98   Switch   4264\n",
            "99       PC   4971\n"
          ]
        }
      ]
    },
    {
      "cell_type": "markdown",
      "source": [
        "Our arbitrary transformation will be a scalar multiplication of the \"Sales\" column."
      ],
      "metadata": {
        "id": "Oz5Z_ceVxrcp"
      }
    },
    {
      "cell_type": "code",
      "source": [
        "df[\"Sales\"] = df[\"Sales\"] * 2\n",
        "#verifying transformation took place.\n",
        "print(df.head())"
      ],
      "metadata": {
        "colab": {
          "base_uri": "https://localhost:8080/",
          "height": 0
        },
        "collapsed": true,
        "id": "4eQd1gyJxqcz",
        "outputId": "5284734f-5362-402a-a6d6-6ff728c2ecc3"
      },
      "execution_count": 27,
      "outputs": [
        {
          "output_type": "stream",
          "name": "stdout",
          "text": [
            "  Platform  Sales\n",
            "0      PS4  20832\n",
            "1     Xbox  10104\n",
            "2   Switch  26176\n",
            "3       PC  25328\n",
            "4      PS4  14888\n"
          ]
        }
      ]
    },
    {
      "cell_type": "markdown",
      "source": [
        "We'll make a copy of our interim data and assign it to \"df_processed\" to differentiate our working data and our completed data."
      ],
      "metadata": {
        "id": "WeeZpu9U0jtD"
      }
    },
    {
      "cell_type": "code",
      "source": [
        "df_processed = df.copy()"
      ],
      "metadata": {
        "id": "JaAmHZxa0scu"
      },
      "execution_count": 28,
      "outputs": []
    },
    {
      "cell_type": "markdown",
      "source": [
        "Now we'll write df_processed to a CSV file in root>data>processed"
      ],
      "metadata": {
        "id": "cN07qM8F0sTO"
      }
    },
    {
      "cell_type": "code",
      "source": [
        "processed_dir = \"/content/drive/MyDrive/pandas-mini-project/data/processed\"\n",
        "os.makedirs(processed_dir, exist_ok=True)\n",
        "processed_csv_path = os.path.join(processed_dir, \"game_sales_cleaned.csv\")\n",
        "df_processed.to_csv(processed_csv_path, index=False)\n",
        "\n",
        "print(\"Saved to:\", processed_csv_path)"
      ],
      "metadata": {
        "colab": {
          "base_uri": "https://localhost:8080/",
          "height": 0
        },
        "id": "WnhawgnKzmDw",
        "outputId": "ae948b30-44a6-44d9-c592-d0e28f754406"
      },
      "execution_count": 29,
      "outputs": [
        {
          "output_type": "stream",
          "name": "stdout",
          "text": [
            "Saved to: /content/drive/MyDrive/pandas-mini-project/data/processed/game_sales_cleaned.csv\n"
          ]
        }
      ]
    }
  ]
}