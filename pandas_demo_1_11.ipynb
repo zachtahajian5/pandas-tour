{
  "nbformat": 4,
  "nbformat_minor": 0,
  "metadata": {
    "colab": {
      "provenance": [],
      "authorship_tag": "ABX9TyO7ns0vtMXCkJftRiUIYsJ1",
      "include_colab_link": true
    },
    "kernelspec": {
      "name": "python3",
      "display_name": "Python 3"
    },
    "language_info": {
      "name": "python"
    }
  },
  "cells": [
    {
      "cell_type": "markdown",
      "metadata": {
        "id": "view-in-github",
        "colab_type": "text"
      },
      "source": [
        "<a href=\"https://colab.research.google.com/github/zachtahajian5/pandas-tour/blob/main/pandas_demo_1_11.ipynb\" target=\"_parent\"><img src=\"https://colab.research.google.com/assets/colab-badge.svg\" alt=\"Open In Colab\"/></a>"
      ]
    },
    {
      "cell_type": "code",
      "execution_count": null,
      "metadata": {
        "colab": {
          "base_uri": "https://localhost:8080/"
        },
        "id": "TV3sTWZqEShB",
        "outputId": "9f763e71-fa0f-492a-a4c8-fdc3a32903ed"
      },
      "outputs": [
        {
          "output_type": "stream",
          "name": "stdout",
          "text": [
            "Drive already mounted at /content/drive; to attempt to forcibly remount, call drive.mount(\"/content/drive\", force_remount=True).\n",
            "    A         B\n",
            "0  92  0.308200\n",
            "1  51  0.683794\n",
            "2  56  0.903938\n",
            "3   5  0.903309\n",
            "4  65  0.635780\n",
            "5  52  0.556421\n",
            "6  96  0.035178\n",
            "7  85  0.291978\n",
            "8  92  0.910906\n",
            "9  57  0.553854\n"
          ]
        }
      ],
      "source": [
        "from google.colab import drive\n",
        "drive.mount('/content/drive')\n",
        "import random\n",
        "import pandas as pd\n",
        "df = pd.read_csv(\"/content/drive/MyDrive/Workflow stuff/pandas_mini_projects_data.zip (Unzipped Files)/overview.csv\")\n",
        "\n",
        "print(df)"
      ]
    },
    {
      "cell_type": "markdown",
      "source": [
        "Now that we've imported our raw data for this project, it's time to get to work!\n",
        "\n",
        "  First, we're going to demonstrate our ability to\n",
        "  extract a column from our Dataframe and treat it as a Series."
      ],
      "metadata": {
        "id": "KCujBy9oI_dI"
      }
    },
    {
      "cell_type": "code",
      "source": [
        "series_demo = df[\"A\"]\n",
        "print(\"Series from column A in df:\")\n",
        "print(\"\\n\")\n",
        "print(series_demo.head())"
      ],
      "metadata": {
        "id": "MyF6UX3GJI0m",
        "colab": {
          "base_uri": "https://localhost:8080/"
        },
        "outputId": "bda4ae44-de93-42d1-8d90-372c5db93070"
      },
      "execution_count": null,
      "outputs": [
        {
          "output_type": "stream",
          "name": "stdout",
          "text": [
            "Series from column A in df:\n",
            "\n",
            "\n",
            "0    92\n",
            "1    51\n",
            "2    56\n",
            "3     5\n",
            "4    65\n",
            "Name: A, dtype: int64\n"
          ]
        }
      ]
    },
    {
      "cell_type": "markdown",
      "source": [
        "Above we've printed  our Series containing column A. We used .head() at the end of our print statement so that we only printed the first 5 values of our Series.  This way we don't clutter the notebook.\\"
      ],
      "metadata": {
        "id": "-HfRoY3TTMLU"
      }
    },
    {
      "cell_type": "markdown",
      "source": [
        "We will also construct a Series from a  small list of random numbers to  demonstrate a simple Series construction."
      ],
      "metadata": {
        "id": "Eun1oJfrUouz"
      }
    },
    {
      "cell_type": "code",
      "source": [
        "small_list = [random.randint(1, 100) for i in range(3)]\n",
        "series_rand= pd.Series(small_list, name =\"Series from rndint\")\n",
        "print(series_rand)\n"
      ],
      "metadata": {
        "colab": {
          "base_uri": "https://localhost:8080/"
        },
        "id": "tnrYY_RWU6yd",
        "outputId": "1156d582-6c63-4c34-c91e-a2c897a67539"
      },
      "execution_count": null,
      "outputs": [
        {
          "output_type": "stream",
          "name": "stdout",
          "text": [
            "0    59\n",
            "1    86\n",
            "2    74\n",
            "Name: Series from rndint, dtype: int64\n"
          ]
        }
      ]
    },
    {
      "cell_type": "markdown",
      "source": [
        "Now that we've constructed a Series manually, let's go ahead and construct a DataFrame manually as well. Our make-shift DataFrame will be coincidentially created from a dictionary we made on the spot."
      ],
      "metadata": {
        "id": "HlsbGSrhYByy"
      }
    },
    {
      "cell_type": "code",
      "source": [
        "#creating an arbitrary dictionary for DataFrame construction\n",
        "random_dict = {\"lucky_numbers\":[random.randint(1, 50) for i in range(3)], \"unlucky numbers\":[random.randint(1,50) for i in range(3)]}\n",
        "print(random_dict)\n",
        "\n"
      ],
      "metadata": {
        "id": "YpwpMqonZJMy",
        "colab": {
          "base_uri": "https://localhost:8080/"
        },
        "outputId": "9d43d2be-5f41-4490-ac88-e492dba0a553"
      },
      "execution_count": null,
      "outputs": [
        {
          "output_type": "stream",
          "name": "stdout",
          "text": [
            "{'lucky_numbers': [23, 18, 16], 'unlucky numbers': [14, 1, 15]}\n"
          ]
        }
      ]
    },
    {
      "cell_type": "code",
      "source": [
        "#constructing the DataFrame from makeshift dict\n",
        "\n",
        "makeshift_df = pd.DataFrame(random_dict)\n",
        "print(makeshift_df)"
      ],
      "metadata": {
        "colab": {
          "base_uri": "https://localhost:8080/"
        },
        "id": "J6yqNyGTz4px",
        "outputId": "37d9b06d-f310-44a2-c167-f78ff6511cd7"
      },
      "execution_count": null,
      "outputs": [
        {
          "output_type": "stream",
          "name": "stdout",
          "text": [
            "   lucky_numbers  unlucky numbers\n",
            "0             23               14\n",
            "1             18                1\n",
            "2             16               15\n"
          ]
        }
      ]
    },
    {
      "cell_type": "markdown",
      "source": [
        "The last stop on this portion of the Pandas Mastery Tour is vectorized operations.\n",
        "\n",
        "You see, a Series in pandas is actually a 1-D vector. That can be visualized by looking at some arbritrary Series, 'x': [1, 2, 3]. If viewed vertically instead of horizontally, we can see that [1, 2, 3] is actually a vector.\n",
        "\n",
        "If a Series is a vector, then a DataFrame is simply a collection of vectors. That means panadas can perform ulta-fast vectorized operations on columns in a DataFrame.\n",
        "\n",
        "Let's demonstrate that."
      ],
      "metadata": {
        "id": "9MT-9x5V10Ld"
      }
    },
    {
      "cell_type": "code",
      "source": [
        "\n",
        "#scalar multiplication of a Series(vector) using a scalar quantity\n",
        "\n",
        "scalar_demo = pd.Series([10,20,30], name = \"x\" )\n",
        "print(scalar_demo * 3)"
      ],
      "metadata": {
        "id": "Aku_JS0p6CU1",
        "colab": {
          "base_uri": "https://localhost:8080/"
        },
        "outputId": "25283ad1-2a4d-44c9-eca2-5286f00fa935"
      },
      "execution_count": null,
      "outputs": [
        {
          "output_type": "stream",
          "name": "stdout",
          "text": [
            "0    30\n",
            "1    60\n",
            "2    90\n",
            "Name: x, dtype: int64\n"
          ]
        }
      ]
    },
    {
      "cell_type": "code",
      "source": [
        " # column(vector) addition\n",
        " #we create new column, C, to be the sum of vector A and B\n",
        "\n",
        " df_vad =pd.DataFrame({\n",
        "    'A': [1, 2, 3, 4],\n",
        "    'B': [10, 20, 30, 40]\n",
        "})\n",
        "print(df_vad)\n"
      ],
      "metadata": {
        "id": "vKHU_LMoCpR_",
        "colab": {
          "base_uri": "https://localhost:8080/"
        },
        "outputId": "b88ffa1c-fa5f-4a2e-ecb3-a9a16a9857be"
      },
      "execution_count": null,
      "outputs": [
        {
          "output_type": "stream",
          "name": "stdout",
          "text": [
            "   A   B\n",
            "0  1  10\n",
            "1  2  20\n",
            "2  3  30\n",
            "3  4  40\n"
          ]
        }
      ]
    },
    {
      "cell_type": "code",
      "source": [
        "#creating column c that holds sum of vector add a and b\n",
        "\n",
        "df_vad[\"C\"] = df_vad[\"A\"] + df_vad[\"B\"]\n",
        "print(df_vad)"
      ],
      "metadata": {
        "colab": {
          "base_uri": "https://localhost:8080/"
        },
        "id": "XtGn6Nc2LBZ7",
        "outputId": "918bdd2a-719d-4349-8b96-1eb5c3e32b55"
      },
      "execution_count": null,
      "outputs": [
        {
          "output_type": "stream",
          "name": "stdout",
          "text": [
            "   A   B   C\n",
            "0  1  10  11\n",
            "1  2  20  22\n",
            "2  3  30  33\n",
            "3  4  40  44\n"
          ]
        }
      ]
    }
  ]
}